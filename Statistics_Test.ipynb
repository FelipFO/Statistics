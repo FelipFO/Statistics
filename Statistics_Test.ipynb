{
  "nbformat": 4,
  "nbformat_minor": 0,
  "metadata": {
    "colab": {
      "provenance": []
    },
    "kernelspec": {
      "name": "python3",
      "display_name": "Python 3"
    },
    "language_info": {
      "name": "python"
    }
  },
  "cells": [
    {
      "cell_type": "code",
      "execution_count": null,
      "metadata": {
        "id": "fky7167I9eUt"
      },
      "outputs": [],
      "source": [
        "import numpy as np\n",
        "\n",
        "X = np.array([0.0339, 0.0423, 0.213, 0.257, 0.273, 0.273, 0.450, 0.503, 0.503,\n",
        "0.637, 0.805, 0.904, 0.904, 0.910, 0.910, 1.02, 1.11, 1.11, 1.41,\n",
        "1.72, 2.03, 2.02, 2.02, 2.02])"
      ]
    },
    {
      "cell_type": "code",
      "source": [
        "mean_x = np.mean(X)"
      ],
      "metadata": {
        "id": "LnQ9B4Mf9kqy"
      },
      "execution_count": null,
      "outputs": []
    },
    {
      "cell_type": "code",
      "source": [
        "print(mean_x)"
      ],
      "metadata": {
        "id": "iqaJvHUP9yFh",
        "colab": {
          "base_uri": "https://localhost:8080/"
        },
        "outputId": "459ae7ad-2f00-4cb5-ece6-12517ea14fec"
      },
      "execution_count": null,
      "outputs": [
        {
          "output_type": "stream",
          "name": "stdout",
          "text": [
            "0.9199250000000001\n"
          ]
        }
      ]
    },
    {
      "cell_type": "code",
      "source": [
        "Y = np.array([-19.3, 30.4, 38.7, 5.52, -33.1, -77.3, 398.0, 406.0, 436.0, 320.0, 373.0, \\\n",
        "93.9, 210.0, 423.0, 594.0, 829.0, 718.0, 561.0, 608.0, 1.04E3, 1.10E3, \\\n",
        "840.0, 801.0, 519.0])"
      ],
      "metadata": {
        "id": "kRo8kghS97pQ"
      },
      "execution_count": null,
      "outputs": []
    },
    {
      "cell_type": "code",
      "source": [
        "mean_y = np.mean(Y)\n",
        "print(mean_y)"
      ],
      "metadata": {
        "id": "vw5EyUR999Ht",
        "colab": {
          "base_uri": "https://localhost:8080/"
        },
        "outputId": "148522e1-8d4c-473c-e4d6-262532daf05f"
      },
      "execution_count": null,
      "outputs": [
        {
          "output_type": "stream",
          "name": "stdout",
          "text": [
            "425.6175\n"
          ]
        }
      ]
    },
    {
      "cell_type": "code",
      "source": [
        "s_x = np.std(X)\n",
        "s_x"
      ],
      "metadata": {
        "colab": {
          "base_uri": "https://localhost:8080/"
        },
        "id": "EVGZZqv0z8TT",
        "outputId": "ed93c9f3-7692-48f8-d29c-2b9d1085650d"
      },
      "execution_count": null,
      "outputs": [
        {
          "output_type": "execute_result",
          "data": {
            "text/plain": [
              "0.6396376045921106"
            ]
          },
          "metadata": {},
          "execution_count": 7
        }
      ]
    },
    {
      "cell_type": "code",
      "source": [
        "s_y = np.std(Y)\n",
        "s_y"
      ],
      "metadata": {
        "colab": {
          "base_uri": "https://localhost:8080/"
        },
        "id": "hvZHUIN10Gpy",
        "outputId": "e4ee7458-dadf-44ca-9232-8d399ab13fef"
      },
      "execution_count": null,
      "outputs": [
        {
          "output_type": "execute_result",
          "data": {
            "text/plain": [
              "341.39107395636944"
            ]
          },
          "metadata": {},
          "execution_count": 8
        }
      ]
    },
    {
      "cell_type": "code",
      "source": [
        "import statistics as st"
      ],
      "metadata": {
        "id": "xuI1DbcG0Um0"
      },
      "execution_count": null,
      "outputs": []
    },
    {
      "cell_type": "code",
      "source": [
        "s_1 = st.stdev(X)\n",
        "s_1"
      ],
      "metadata": {
        "colab": {
          "base_uri": "https://localhost:8080/"
        },
        "id": "aujBGyVY0XXc",
        "outputId": "313ea2b1-e2e7-4739-b1f1-44c9a73cf121"
      },
      "execution_count": null,
      "outputs": [
        {
          "output_type": "execute_result",
          "data": {
            "text/plain": [
              "0.6533948258734996"
            ]
          },
          "metadata": {},
          "execution_count": 10
        }
      ]
    },
    {
      "cell_type": "code",
      "source": [
        "s_2 = st.stdev(Y)\n",
        "s_2"
      ],
      "metadata": {
        "colab": {
          "base_uri": "https://localhost:8080/"
        },
        "id": "SvjC4O1a0hld",
        "outputId": "43cb1cfa-559a-4ade-bd25-676a4ef8305f"
      },
      "execution_count": null,
      "outputs": [
        {
          "output_type": "execute_result",
          "data": {
            "text/plain": [
              "348.73365749772296"
            ]
          },
          "metadata": {},
          "execution_count": 11
        }
      ]
    },
    {
      "cell_type": "code",
      "source": [
        "cov = st.covariance(X,Y)\n",
        "cov"
      ],
      "metadata": {
        "colab": {
          "base_uri": "https://localhost:8080/"
        },
        "id": "g2PkEZg25Mbu",
        "outputId": "27952bf9-4b51-4b72-9099-55bfa94fa82b"
      },
      "execution_count": null,
      "outputs": [
        {
          "output_type": "execute_result",
          "data": {
            "text/plain": [
              "191.20706528260868"
            ]
          },
          "metadata": {},
          "execution_count": 13
        }
      ]
    },
    {
      "cell_type": "code",
      "source": [
        "corr = st.correlation(X,Y)\n",
        "corr"
      ],
      "metadata": {
        "colab": {
          "base_uri": "https://localhost:8080/"
        },
        "id": "wyWrO2Se8exX",
        "outputId": "565f6ce3-acae-45b5-a9e6-7a1f94825d46"
      },
      "execution_count": null,
      "outputs": [
        {
          "output_type": "execute_result",
          "data": {
            "text/plain": [
              "0.8391399162310663"
            ]
          },
          "metadata": {},
          "execution_count": 14
        }
      ]
    },
    {
      "cell_type": "code",
      "source": [
        "slope = cov/st.variance(X)\n",
        "slope"
      ],
      "metadata": {
        "colab": {
          "base_uri": "https://localhost:8080/"
        },
        "id": "BhfR4dCYKNc0",
        "outputId": "2c392d25-74d9-4eda-ca33-b67cf063d075"
      },
      "execution_count": null,
      "outputs": [
        {
          "output_type": "execute_result",
          "data": {
            "text/plain": [
              "447.87059914099837"
            ]
          },
          "metadata": {},
          "execution_count": 15
        }
      ]
    },
    {
      "cell_type": "code",
      "source": [
        "intercept = mean_y - slope * mean_x\n",
        "intercept"
      ],
      "metadata": {
        "id": "GGdV9fc4LmSw",
        "outputId": "172877d1-7f12-4345-859a-edd4fcbad0a6",
        "colab": {
          "base_uri": "https://localhost:8080/"
        }
      },
      "execution_count": null,
      "outputs": [
        {
          "output_type": "execute_result",
          "data": {
            "text/plain": [
              "13.610139085217043"
            ]
          },
          "metadata": {},
          "execution_count": 16
        }
      ]
    }
  ]
}