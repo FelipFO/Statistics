{
  "cells": [
    {
      "cell_type": "markdown",
      "metadata": {
        "id": "7AZc-zbQsRD9"
      },
      "source": [
        "# Distribuciones continuas (e.j. gaussiana)\n",
        "\n",
        "Recordemos que la distribución de probabilidad normal o gaussiana está dada por: \n",
        "\n",
        "$$P(X) = \\frac{1}{\\sigma \\sqrt{2 \\pi}} \\exp{\\left[-\\frac{1}{2}\\left(\\frac{X-\\mu}{\\sigma} \\right)^2 \\right]}$$\n",
        "\n",
        "donde:\n",
        "\n",
        "* $\\mu$: media de la distribución\n",
        "* $\\sigma$: desviación estandar de la distribución\n",
        "\n",
        "`Ejemplo`: considerando una variable aleatoria que sigue una distribución normal con media $\\mu=4$ y desviación estándar $\\sigma=0.3$, la probabilidad de que dicha variable tome el valor de $0.2$ está dada por: \n",
        "\n",
        "$$P(0.2) =  \\frac{1}{0.3 \\sqrt{2 \\pi}} \\exp{\\left[-\\frac{1}{2}\\left(\\frac{0.2-4}{0.3} \\right)^2 \\right]}$$\n",
        "\n",
        "Lo cual en Python se traduce en: \n",
        "\n",
        "```python\n",
        "from scipy.stats import norm\n",
        "\n",
        "norm(mu, sigma).pdf(X)\n",
        "```\n",
        "\n",
        "---\n",
        "\n",
        "Así también, la distribucion de probabilidad acumulada correspondiente está dada por: \n",
        "\n",
        "$$C(X) = \\int_{x<=X} P(x)dx = \\int_{- \\infty}^xP(X)dX $$\n",
        "\n",
        "teniendo en cuenta que $Dom(X) = (-\\infty, \\infty)$. \n",
        "\n",
        "`Ejemplo`: considerando una variable aleatoria que sigue una distribucion normal con media $\\mu=4$ y desviación estándar $\\sigma=0.3$, la probabilidad de que dicha variable tome el valor de $0.2$ o menos está dada por:\n",
        "\n",
        "$$C(0.2) = \\int_{x<=0.2} P(x)dx = \\int_{- \\infty}^{0.2}  \\left\\{\\frac{1}{0.3 \\sqrt{2 \\pi}} \\exp{\\left[-\\frac{1}{2}\\left(\\frac{X-4}{0.3} \\right)^2 \\right]} \\right\\} dX $$\n",
        "\n",
        "La cual se calcula en Python como: \n",
        "\n",
        "```python \n",
        "from scipy.stats import norm\n",
        "\n",
        "norm(mu, sigma).cdf(X)\n",
        "```\n",
        "\n",
        "_**Es importante recordar que la función de probabilidad acumulada de la distribución gaussiana no se puede calcular de forma exacta, ya que la integral anterior no tiene una expresión cerrada conocida. Es decir, los métodos de integración conocidos no funcionan para resolver esta integral.**_"
      ]
    },
    {
      "cell_type": "markdown",
      "metadata": {
        "id": "gJZrejp27x1N"
      },
      "source": [
        "# De la binomial a la gaussiana\n",
        "\n",
        "En la clase 8 vimos como generar secuencias aleatorias de experimentos binomiales ([aquí](https://colab.research.google.com/drive/1MR9VZg19vHyZhvWWuxtNcy_3PZQ7AfwW?usp=sharing)), donde cada experimento era lanzar un cierto número de monedas. \n",
        "\n",
        "**¿Qué sucede si el número consecutivo de monedas que lanzamos en cada experimento (trial) es muy largo?**\n",
        "\n",
        "La función `generate_binomial_trials()` nos muestra lo que sucede si graficamos los resultados de muchos experimentos de lanzar 100 monedas en cada intento, con pyplot: "
      ]
    },
    {
      "cell_type": "code",
      "execution_count": 1,
      "metadata": {
        "colab": {
          "base_uri": "https://localhost:8080/",
          "height": 282
        },
        "id": "77J2bk7Io8aW",
        "outputId": "b6b18833-bf2f-4b95-fd05-483f9b3deaa1"
      },
      "outputs": [
        {
          "data": {
            "text/plain": [
              "<BarContainer object of 44 artists>"
            ]
          },
          "execution_count": 1,
          "metadata": {},
          "output_type": "execute_result"
        },
        {
          "data": {
            "image/png": "[encoded data removed]",
            "text/plain": [
              "<Figure size 640x480 with 1 Axes>"
            ]
          },
          "metadata": {},
          "output_type": "display_data"
        }
      ],
      "source": [
        "import numpy as np\n",
        "from numpy.random import binomial\n",
        "import matplotlib.pyplot as plt\n",
        "\n",
        "def generate_binomial_trials(trials=1000, coin_toss=100):\n",
        "  '''\n",
        "  el resultado de esta funcion es generar un conjuntos \n",
        "  de experimentos binomiales (trials) y de cada uno obtener \n",
        "  las cantidades de exitos en cada secuencia (e.j. lanzar monedas).\n",
        "\n",
        "  * trial: es una secuencia de <coin_toss> lanzamientos de moneda\n",
        "\n",
        "  * coin_toss: es el numero de monedas lanzadas en cada trial\n",
        "  '''\n",
        "  arr = []\n",
        "  for _ in range(trials):\n",
        "    arr.append(binomial(coin_toss, 0.5))\n",
        "  values, dist = np.unique(arr, return_counts=True)\n",
        "\n",
        "  return values, dist\n",
        "\n",
        "values, dist = generate_binomial_trials(100000)\n",
        "plt.bar(values, dist)"
      ]
    }
  ],
  "metadata": {
    "colab": {
      "provenance": []
    },
    "kernelspec": {
      "display_name": "Python 3",
      "name": "python3"
    },
    "language_info": {
      "codemirror_mode": {
        "name": "ipython",
        "version": 3
      },
      "file_extension": ".py",
      "mimetype": "text/x-python",
      "name": "python",
      "nbconvert_exporter": "python",
      "pygments_lexer": "ipython3",
      "version": "3.11.5"
    }
  },
  "nbformat": 4,
  "nbformat_minor": 0
}
